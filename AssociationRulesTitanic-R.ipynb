{
 "cells": [
  {
   "cell_type": "code",
   "execution_count": 7,
   "metadata": {},
   "outputs": [
    {
     "name": "stderr",
     "output_type": "stream",
     "text": [
      "Warning message:\n",
      "\"package 'plyr' was built under R version 3.6.3\"Warning message:\n",
      "\"package 'arulesViz' was built under R version 3.6.3\"Loading required package: arules\n",
      "Warning message:\n",
      "\"package 'arules' was built under R version 3.6.3\"Loading required package: Matrix\n",
      "Warning message:\n",
      "\"package 'Matrix' was built under R version 3.6.3\"\n",
      "Attaching package: 'arules'\n",
      "\n",
      "The following objects are masked from 'package:base':\n",
      "\n",
      "    abbreviate, write\n",
      "\n"
     ]
    }
   ],
   "source": [
    "library(plyr)\n",
    "library(arulesViz)     #visualizing Association Rules and Frequent Itemsets\n",
    "library(arulesViz)  #Mining Association Rules and Frequent Itemsets"
   ]
  },
  {
   "cell_type": "code",
   "execution_count": 8,
   "metadata": {},
   "outputs": [
    {
     "name": "stderr",
     "output_type": "stream",
     "text": [
      "Warning message:\n",
      "\"package 'httr' is in use and will not be installed\""
     ]
    }
   ],
   "source": [
    "install.packages('httr')\n",
    "if (!file.exists(\"titanic.raw.rdata\")) {\n",
    " library(httr)\n",
    " resp <- GET(\"http://www.rdatamining.com/data/titanic.raw.rdata\")\n",
    " writeBin(content(resp, 'raw'), \"titanic.raw.rdata\")\n",
    "}\n",
    "a=load(\"titanic.raw.rdata\")"
   ]
  },
  {
   "cell_type": "code",
   "execution_count": 9,
   "metadata": {},
   "outputs": [],
   "source": [
    "titanic_r = titanic.raw #creating the dataset"
   ]
  },
  {
   "cell_type": "code",
   "execution_count": 59,
   "metadata": {},
   "outputs": [],
   "source": [
    "write.csv(titanic_r, file = 'Titanic-AssociationRules.csv', quote = FALSE, row.names = TRUE)"
   ]
  },
  {
   "cell_type": "code",
   "execution_count": 10,
   "metadata": {},
   "outputs": [
    {
     "data": {
      "text/html": [
       "<table>\n",
       "<thead><tr><th scope=col>Class</th><th scope=col>Sex</th><th scope=col>Age</th><th scope=col>Survived</th></tr></thead>\n",
       "<tbody>\n",
       "\t<tr><td>3rd  </td><td>Male </td><td>Child</td><td>No   </td></tr>\n",
       "\t<tr><td>3rd  </td><td>Male </td><td>Child</td><td>No   </td></tr>\n",
       "\t<tr><td>3rd  </td><td>Male </td><td>Child</td><td>No   </td></tr>\n",
       "\t<tr><td>3rd  </td><td>Male </td><td>Child</td><td>No   </td></tr>\n",
       "\t<tr><td>3rd  </td><td>Male </td><td>Child</td><td>No   </td></tr>\n",
       "\t<tr><td>3rd  </td><td>Male </td><td>Child</td><td>No   </td></tr>\n",
       "</tbody>\n",
       "</table>\n"
      ],
      "text/latex": [
       "\\begin{tabular}{r|llll}\n",
       " Class & Sex & Age & Survived\\\\\n",
       "\\hline\n",
       "\t 3rd   & Male  & Child & No   \\\\\n",
       "\t 3rd   & Male  & Child & No   \\\\\n",
       "\t 3rd   & Male  & Child & No   \\\\\n",
       "\t 3rd   & Male  & Child & No   \\\\\n",
       "\t 3rd   & Male  & Child & No   \\\\\n",
       "\t 3rd   & Male  & Child & No   \\\\\n",
       "\\end{tabular}\n"
      ],
      "text/markdown": [
       "\n",
       "| Class | Sex | Age | Survived |\n",
       "|---|---|---|---|\n",
       "| 3rd   | Male  | Child | No    |\n",
       "| 3rd   | Male  | Child | No    |\n",
       "| 3rd   | Male  | Child | No    |\n",
       "| 3rd   | Male  | Child | No    |\n",
       "| 3rd   | Male  | Child | No    |\n",
       "| 3rd   | Male  | Child | No    |\n",
       "\n"
      ],
      "text/plain": [
       "  Class Sex  Age   Survived\n",
       "1 3rd   Male Child No      \n",
       "2 3rd   Male Child No      \n",
       "3 3rd   Male Child No      \n",
       "4 3rd   Male Child No      \n",
       "5 3rd   Male Child No      \n",
       "6 3rd   Male Child No      "
      ]
     },
     "metadata": {},
     "output_type": "display_data"
    }
   ],
   "source": [
    "head(titanic_r )   #6 first rows"
   ]
  },
  {
   "cell_type": "code",
   "execution_count": 19,
   "metadata": {},
   "outputs": [
    {
     "data": {
      "text/html": [
       "<table>\n",
       "<thead><tr><th></th><th scope=col>Class</th><th scope=col>Sex</th><th scope=col>Age</th><th scope=col>Survived</th></tr></thead>\n",
       "<tbody>\n",
       "\t<tr><th scope=row>2196</th><td>Crew  </td><td>Female</td><td>Adult </td><td>Yes   </td></tr>\n",
       "\t<tr><th scope=row>2197</th><td>Crew  </td><td>Female</td><td>Adult </td><td>Yes   </td></tr>\n",
       "\t<tr><th scope=row>2198</th><td>Crew  </td><td>Female</td><td>Adult </td><td>Yes   </td></tr>\n",
       "\t<tr><th scope=row>2199</th><td>Crew  </td><td>Female</td><td>Adult </td><td>Yes   </td></tr>\n",
       "\t<tr><th scope=row>2200</th><td>Crew  </td><td>Female</td><td>Adult </td><td>Yes   </td></tr>\n",
       "\t<tr><th scope=row>2201</th><td>Crew  </td><td>Female</td><td>Adult </td><td>Yes   </td></tr>\n",
       "</tbody>\n",
       "</table>\n"
      ],
      "text/latex": [
       "\\begin{tabular}{r|llll}\n",
       "  & Class & Sex & Age & Survived\\\\\n",
       "\\hline\n",
       "\t2196 & Crew   & Female & Adult  & Yes   \\\\\n",
       "\t2197 & Crew   & Female & Adult  & Yes   \\\\\n",
       "\t2198 & Crew   & Female & Adult  & Yes   \\\\\n",
       "\t2199 & Crew   & Female & Adult  & Yes   \\\\\n",
       "\t2200 & Crew   & Female & Adult  & Yes   \\\\\n",
       "\t2201 & Crew   & Female & Adult  & Yes   \\\\\n",
       "\\end{tabular}\n"
      ],
      "text/markdown": [
       "\n",
       "| <!--/--> | Class | Sex | Age | Survived |\n",
       "|---|---|---|---|---|\n",
       "| 2196 | Crew   | Female | Adult  | Yes    |\n",
       "| 2197 | Crew   | Female | Adult  | Yes    |\n",
       "| 2198 | Crew   | Female | Adult  | Yes    |\n",
       "| 2199 | Crew   | Female | Adult  | Yes    |\n",
       "| 2200 | Crew   | Female | Adult  | Yes    |\n",
       "| 2201 | Crew   | Female | Adult  | Yes    |\n",
       "\n"
      ],
      "text/plain": [
       "     Class Sex    Age   Survived\n",
       "2196 Crew  Female Adult Yes     \n",
       "2197 Crew  Female Adult Yes     \n",
       "2198 Crew  Female Adult Yes     \n",
       "2199 Crew  Female Adult Yes     \n",
       "2200 Crew  Female Adult Yes     \n",
       "2201 Crew  Female Adult Yes     "
      ]
     },
     "metadata": {},
     "output_type": "display_data"
    }
   ],
   "source": [
    "tail(titanic_r)   #6 last rows"
   ]
  },
  {
   "cell_type": "code",
   "execution_count": 14,
   "metadata": {},
   "outputs": [
    {
     "data": {
      "text/html": [
       "<ol class=list-inline>\n",
       "\t<li>2201</li>\n",
       "\t<li>4</li>\n",
       "</ol>\n"
      ],
      "text/latex": [
       "\\begin{enumerate*}\n",
       "\\item 2201\n",
       "\\item 4\n",
       "\\end{enumerate*}\n"
      ],
      "text/markdown": [
       "1. 2201\n",
       "2. 4\n",
       "\n",
       "\n"
      ],
      "text/plain": [
       "[1] 2201    4"
      ]
     },
     "metadata": {},
     "output_type": "display_data"
    }
   ],
   "source": [
    "dim(titanic_r)  #dimension of dataset"
   ]
  },
  {
   "cell_type": "code",
   "execution_count": 23,
   "metadata": {},
   "outputs": [
    {
     "name": "stdout",
     "output_type": "stream",
     "text": [
      "'data.frame':\t2201 obs. of  4 variables:\n",
      " $ Class   : Factor w/ 4 levels \"1st\",\"2nd\",\"3rd\",..: 3 3 3 3 3 3 3 3 3 3 ...\n",
      " $ Sex     : Factor w/ 2 levels \"Female\",\"Male\": 2 2 2 2 2 2 2 2 2 2 ...\n",
      " $ Age     : Factor w/ 2 levels \"Adult\",\"Child\": 2 2 2 2 2 2 2 2 2 2 ...\n",
      " $ Survived: Factor w/ 2 levels \"No\",\"Yes\": 1 1 1 1 1 1 1 1 1 1 ...\n"
     ]
    }
   ],
   "source": [
    "str(titanic_r)  #general information of the dataset"
   ]
  },
  {
   "cell_type": "code",
   "execution_count": 22,
   "metadata": {},
   "outputs": [
    {
     "data": {
      "text/plain": [
       "  Class         Sex          Age       Survived  \n",
       " 1st :325   Female: 470   Adult:2092   No :1490  \n",
       " 2nd :285   Male  :1731   Child: 109   Yes: 711  \n",
       " 3rd :706                                        \n",
       " Crew:885                                        "
      ]
     },
     "metadata": {},
     "output_type": "display_data"
    }
   ],
   "source": [
    "summary(titanic_r)  #statistical summary of the dataset"
   ]
  },
  {
   "cell_type": "code",
   "execution_count": 21,
   "metadata": {},
   "outputs": [
    {
     "data": {
      "text/plain": [
       "       \n",
       "          No  Yes\n",
       "  Adult 1438  654\n",
       "  Child   52   57"
      ]
     },
     "metadata": {},
     "output_type": "display_data"
    }
   ],
   "source": [
    "table(titanic_r$Age,titanic_r$Survived)   #frequency table of two age and survived columns"
   ]
  },
  {
   "cell_type": "code",
   "execution_count": 41,
   "metadata": {},
   "outputs": [
    {
     "data": {
      "text/plain": [
       "       \n",
       "        Female Male\n",
       "  Adult    425 1667\n",
       "  Child     45   64"
      ]
     },
     "metadata": {},
     "output_type": "display_data"
    }
   ],
   "source": [
    "table(titanic_r$Age,titanic_r$Sex)   #frequency table of two age and sex columns"
   ]
  },
  {
   "cell_type": "code",
   "execution_count": 24,
   "metadata": {},
   "outputs": [
    {
     "data": {
      "text/plain": [
       "                   Survived   No  Yes  Sum\n",
       "Class Sex    Age                          \n",
       "1st   Female Adult             4  140  144\n",
       "             Child             0    1    1\n",
       "             Sum               4  141  145\n",
       "      Male   Adult           118   57  175\n",
       "             Child             0    5    5\n",
       "             Sum             118   62  180\n",
       "      Sum    Adult           122  197  319\n",
       "             Child             0    6    6\n",
       "             Sum             122  203  325\n",
       "2nd   Female Adult            13   80   93\n",
       "             Child             0   13   13\n",
       "             Sum              13   93  106\n",
       "      Male   Adult           154   14  168\n",
       "             Child             0   11   11\n",
       "             Sum             154   25  179\n",
       "      Sum    Adult           167   94  261\n",
       "             Child             0   24   24\n",
       "             Sum             167  118  285\n",
       "3rd   Female Adult            89   76  165\n",
       "             Child            17   14   31\n",
       "             Sum             106   90  196\n",
       "      Male   Adult           387   75  462\n",
       "             Child            35   13   48\n",
       "             Sum             422   88  510\n",
       "      Sum    Adult           476  151  627\n",
       "             Child            52   27   79\n",
       "             Sum             528  178  706\n",
       "Crew  Female Adult             3   20   23\n",
       "             Child             0    0    0\n",
       "             Sum               3   20   23\n",
       "      Male   Adult           670  192  862\n",
       "             Child             0    0    0\n",
       "             Sum             670  192  862\n",
       "      Sum    Adult           673  212  885\n",
       "             Child             0    0    0\n",
       "             Sum             673  212  885\n",
       "Sum   Female Adult           109  316  425\n",
       "             Child            17   28   45\n",
       "             Sum             126  344  470\n",
       "      Male   Adult          1329  338 1667\n",
       "             Child            35   29   64\n",
       "             Sum            1364  367 1731\n",
       "      Sum    Adult          1438  654 2092\n",
       "             Child            52   57  109\n",
       "             Sum            1490  711 2201"
      ]
     },
     "metadata": {},
     "output_type": "display_data"
    }
   ],
   "source": [
    "#frequency table of all variables\n",
    "source(\"http://pcwww.liv.ac.uk/~william/R/crosstab.r\")\n",
    "freq_table=crosstab(titanic_r, row.vars = c(\"Class\", \"Sex\",\"Age\"), col.vars = \"Survived\", type = \"f\")\n",
    "freq_table"
   ]
  },
  {
   "cell_type": "code",
   "execution_count": 46,
   "metadata": {},
   "outputs": [
    {
     "name": "stdout",
     "output_type": "stream",
     "text": [
      "Apriori\n",
      "\n",
      "Parameter specification:\n",
      " confidence minval smax arem  aval originalSupport maxtime support minlen\n",
      "       0.05    0.1    1 none FALSE            TRUE       5   0.001      2\n",
      " maxlen target  ext\n",
      "     10  rules TRUE\n",
      "\n",
      "Algorithmic control:\n",
      " filter tree heap memopt load sort verbose\n",
      "    0.1 TRUE TRUE  FALSE TRUE    2    TRUE\n",
      "\n",
      "Absolute minimum support count: 2 \n",
      "\n",
      "set item appearances ...[2 item(s)] done [0.00s].\n",
      "set transactions ...[6 item(s), 2201 transaction(s)] done [0.00s].\n",
      "sorting and recoding items ... [6 item(s)] done [0.00s].\n",
      "creating transaction tree ... done [0.00s].\n",
      "checking subsets of size 1 2 3 done [0.00s].\n",
      "writing ... [16 rule(s)] done [0.00s].\n",
      "creating S4 object  ... done [0.00s].\n"
     ]
    }
   ],
   "source": [
    "#Apriori algorithm Implementation for titanic dataset, excluding class column\n",
    "rule=apriori(titanic_r[2:4], parameter=list(minlen=2, supp=0.001, conf=0.05),  \n",
    "                appearance = list(default = \"lhs\", rhs=c(\"Survived=Yes\",\"Survived=No\")))"
   ]
  },
  {
   "cell_type": "code",
   "execution_count": 49,
   "metadata": {},
   "outputs": [
    {
     "data": {
      "text/plain": [
       "set of 16 rules\n",
       "\n",
       "rule length distribution (lhs + rhs):sizes\n",
       "2 3 \n",
       "8 8 \n",
       "\n",
       "   Min. 1st Qu.  Median    Mean 3rd Qu.    Max. \n",
       "    2.0     2.0     2.5     2.5     3.0     3.0 \n",
       "\n",
       "summary of quality measures:\n",
       "    support           confidence        coverage            lift       \n",
       " Min.   :0.007724   Min.   :0.2028   Min.   :0.02045   Min.   :0.3789  \n",
       " 1st Qu.:0.021695   1st Qu.:0.3015   1st Qu.:0.04441   1st Qu.:0.6492  \n",
       " Median :0.100409   Median :0.5000   Median :0.20332   Median :0.9916  \n",
       " Mean   :0.187500   Mean   :0.5000   Mean   :0.37500   Mean   :1.1231  \n",
       " 3rd Qu.:0.199341   3rd Qu.:0.6985   3rd Qu.:0.76465   3rd Qu.:1.4567  \n",
       " Max.   :0.653339   Max.   :0.7972   Max.   :0.95048   Max.   :2.3017  \n",
       "     count        \n",
       " Min.   :  17.00  \n",
       " 1st Qu.:  47.75  \n",
       " Median : 221.00  \n",
       " Mean   : 412.69  \n",
       " 3rd Qu.: 438.75  \n",
       " Max.   :1438.00  \n",
       "\n",
       "mining info:\n",
       "           data ntransactions support confidence\n",
       " titanic_r[2:4]          2201   0.001       0.05"
      ]
     },
     "metadata": {},
     "output_type": "display_data"
    }
   ],
   "source": [
    "summary(rule)"
   ]
  },
  {
   "cell_type": "code",
   "execution_count": 50,
   "metadata": {},
   "outputs": [
    {
     "name": "stdout",
     "output_type": "stream",
     "text": [
      "     lhs                       rhs            support     confidence coverage  \n",
      "[1]  {Sex=Female,Age=Adult} => {Survived=Yes} 0.143571104 0.7435294  0.19309405\n",
      "[2]  {Sex=Female}           => {Survived=Yes} 0.156292594 0.7319149  0.21353930\n",
      "[3]  {Sex=Female,Age=Child} => {Survived=Yes} 0.012721490 0.6222222  0.02044525\n",
      "[4]  {Age=Child}            => {Survived=Yes} 0.025897319 0.5229358  0.04952294\n",
      "[5]  {Sex=Male,Age=Child}   => {Survived=Yes} 0.013175829 0.4531250  0.02907769\n",
      "[6]  {Sex=Male,Age=Adult}   => {Survived=No}  0.603816447 0.7972406  0.75738301\n",
      "[7]  {Sex=Male}             => {Survived=No}  0.619718310 0.7879838  0.78646070\n",
      "[8]  {Age=Adult}            => {Survived=No}  0.653339391 0.6873805  0.95047706\n",
      "[9]  {Age=Adult}            => {Survived=Yes} 0.297137665 0.3126195  0.95047706\n",
      "[10] {Sex=Male,Age=Child}   => {Survived=No}  0.015901863 0.5468750  0.02907769\n",
      "[11] {Age=Child}            => {Survived=No}  0.023625625 0.4770642  0.04952294\n",
      "[12] {Sex=Male}             => {Survived=Yes} 0.166742390 0.2120162  0.78646070\n",
      "[13] {Sex=Male,Age=Adult}   => {Survived=Yes} 0.153566561 0.2027594  0.75738301\n",
      "[14] {Sex=Female,Age=Child} => {Survived=No}  0.007723762 0.3777778  0.02044525\n",
      "[15] {Sex=Female}           => {Survived=No}  0.057246706 0.2680851  0.21353930\n",
      "[16] {Sex=Female,Age=Adult} => {Survived=No}  0.049522944 0.2564706  0.19309405\n",
      "     lift      count\n",
      "[1]  2.3016993  316 \n",
      "[2]  2.2657450  344 \n",
      "[3]  1.9261760   28 \n",
      "[4]  1.6188209   57 \n",
      "[5]  1.4027118   29 \n",
      "[6]  1.1776688 1329 \n",
      "[7]  1.1639949 1364 \n",
      "[8]  1.0153856 1438 \n",
      "[9]  0.9677574  654 \n",
      "[10] 0.8078335   35 \n",
      "[11] 0.7047103   52 \n",
      "[12] 0.6563257  367 \n",
      "[13] 0.6276702  338 \n",
      "[14] 0.5580462   17 \n",
      "[15] 0.3960103  126 \n",
      "[16] 0.3788535  109 \n"
     ]
    }
   ],
   "source": [
    "#Display the top 20 rules with the highest lift \n",
    "inspect(sort(rule,by=\"lift\"))"
   ]
  },
  {
   "cell_type": "markdown",
   "metadata": {},
   "source": [
    "as is shown in the result, women (either adults or children) has the highest probability of being survived, followed by child males. \n",
    "in the contary, male adults had the highest probability of not being survived. "
   ]
  },
  {
   "cell_type": "code",
   "execution_count": 51,
   "metadata": {},
   "outputs": [
    {
     "data": {
      "image/png": "[encoded data removed]",
      "text/plain": [
       "plot without title"
      ]
     },
     "metadata": {},
     "output_type": "display_data"
    }
   ],
   "source": [
    "# Displays scatterplot\n",
    "plot(rule, method=\"scatterplot\", jitter = 0)"
   ]
  },
  {
   "cell_type": "code",
   "execution_count": 54,
   "metadata": {},
   "outputs": [
    {
     "data": {
      "image/png": "[encoded data removed]",
      "text/plain": [
       "Plot with title \"Graph for 16 rules\""
      ]
     },
     "metadata": {},
     "output_type": "display_data"
    }
   ],
   "source": [
    "#Visualizing rules\n",
    "plot(sort(rule,by=\"lift\"), method=\"graph\", control=list(nodeCol=\"red\", edgeCol=\"blue\"))"
   ]
  },
  {
   "cell_type": "code",
   "execution_count": 55,
   "metadata": {},
   "outputs": [
    {
     "data": {
      "image/png": "[encoded data removed]",
      "text/plain": [
       "plot without title"
      ]
     },
     "metadata": {},
     "output_type": "display_data"
    }
   ],
   "source": [
    "#Visualizing the top 20 rules with the highest lift\n",
    "plot(sort(rule,by=\"lift\"), method=\"paracoord\")"
   ]
  },
  {
   "cell_type": "markdown",
   "metadata": {},
   "source": [
    "following, we add the class column to the model"
   ]
  },
  {
   "cell_type": "code",
   "execution_count": 56,
   "metadata": {},
   "outputs": [
    {
     "name": "stdout",
     "output_type": "stream",
     "text": [
      "Apriori\n",
      "\n",
      "Parameter specification:\n",
      " confidence minval smax arem  aval originalSupport maxtime support minlen\n",
      "       0.05    0.1    1 none FALSE            TRUE       5   0.001      2\n",
      " maxlen target  ext\n",
      "     10  rules TRUE\n",
      "\n",
      "Algorithmic control:\n",
      " filter tree heap memopt load sort verbose\n",
      "    0.1 TRUE TRUE  FALSE TRUE    2    TRUE\n",
      "\n",
      "Absolute minimum support count: 2 \n",
      "\n",
      "set item appearances ...[2 item(s)] done [0.00s].\n",
      "set transactions ...[10 item(s), 2201 transaction(s)] done [0.00s].\n",
      "sorting and recoding items ... [10 item(s)] done [0.00s].\n",
      "creating transaction tree ... done [0.00s].\n",
      "checking subsets of size 1 2 3 4 done [0.00s].\n",
      "writing ... [73 rule(s)] done [0.00s].\n",
      "creating S4 object  ... done [0.00s].\n"
     ]
    }
   ],
   "source": [
    "#Apriori algorithm Implementation \n",
    "rule=apriori(titanic_r, parameter=list(minlen=2, supp=0.001, conf=0.05),  \n",
    "                appearance = list(default = \"lhs\", rhs=c(\"Survived=Yes\",\"Survived=No\")))"
   ]
  },
  {
   "cell_type": "code",
   "execution_count": 57,
   "metadata": {},
   "outputs": [
    {
     "name": "stdout",
     "output_type": "stream",
     "text": [
      "     lhs                                  rhs            support     confidence\n",
      "[1]  {Class=2nd,Age=Child}             => {Survived=Yes} 0.010904134 1.00000000\n",
      "[2]  {Class=1st,Age=Child}             => {Survived=Yes} 0.002726034 1.00000000\n",
      "[3]  {Class=2nd,Sex=Female,Age=Child}  => {Survived=Yes} 0.005906406 1.00000000\n",
      "[4]  {Class=2nd,Sex=Male,Age=Child}    => {Survived=Yes} 0.004997728 1.00000000\n",
      "[5]  {Class=1st,Sex=Male,Age=Child}    => {Survived=Yes} 0.002271695 1.00000000\n",
      "[6]  {Class=1st,Sex=Female}            => {Survived=Yes} 0.064061790 0.97241379\n",
      "[7]  {Class=1st,Sex=Female,Age=Adult}  => {Survived=Yes} 0.063607451 0.97222222\n",
      "[8]  {Class=2nd,Sex=Female}            => {Survived=Yes} 0.042253521 0.87735849\n",
      "[9]  {Class=Crew,Sex=Female}           => {Survived=Yes} 0.009086779 0.86956522\n",
      "[10] {Class=Crew,Sex=Female,Age=Adult} => {Survived=Yes} 0.009086779 0.86956522\n",
      "[11] {Class=2nd,Sex=Female,Age=Adult}  => {Survived=Yes} 0.036347115 0.86021505\n",
      "[12] {Sex=Female,Age=Adult}            => {Survived=Yes} 0.143571104 0.74352941\n",
      "[13] {Sex=Female}                      => {Survived=Yes} 0.156292594 0.73191489\n",
      "[14] {Class=1st}                       => {Survived=Yes} 0.092230804 0.62461538\n",
      "[15] {Sex=Female,Age=Child}            => {Survived=Yes} 0.012721490 0.62222222\n",
      "[16] {Class=1st,Age=Adult}             => {Survived=Yes} 0.089504771 0.61755486\n",
      "[17] {Age=Child}                       => {Survived=Yes} 0.025897319 0.52293578\n",
      "[18] {Class=3rd,Sex=Female,Age=Adult}  => {Survived=Yes} 0.034529759 0.46060606\n",
      "[19] {Class=3rd,Sex=Female}            => {Survived=Yes} 0.040890504 0.45918367\n",
      "[20] {Sex=Male,Age=Child}              => {Survived=Yes} 0.013175829 0.45312500\n",
      "[21] {Class=3rd,Sex=Female,Age=Child}  => {Survived=Yes} 0.006360745 0.45161290\n",
      "[22] {Class=2nd,Sex=Male,Age=Adult}    => {Survived=No}  0.069968196 0.91666667\n",
      "[23] {Class=2nd}                       => {Survived=Yes} 0.053611995 0.41403509\n",
      "[24] {Class=2nd,Sex=Male}              => {Survived=No}  0.069968196 0.86033520\n",
      "[25] {Class=3rd,Sex=Male,Age=Adult}    => {Survived=No}  0.175829169 0.83766234\n",
      "[26] {Class=3rd,Sex=Male}              => {Survived=No}  0.191731031 0.82745098\n",
      "[27] {Sex=Male,Age=Adult}              => {Survived=No}  0.603816447 0.79724055\n",
      "[28] {Sex=Male}                        => {Survived=No}  0.619718310 0.78798382\n",
      "[29] {Class=Crew,Sex=Male}             => {Survived=No}  0.304407088 0.77726218\n",
      "[30] {Class=Crew,Sex=Male,Age=Adult}   => {Survived=No}  0.304407088 0.77726218\n",
      "[31] {Class=Crew}                      => {Survived=No}  0.305770104 0.76045198\n",
      "[32] {Class=Crew,Age=Adult}            => {Survived=No}  0.305770104 0.76045198\n",
      "[33] {Class=3rd,Age=Adult}             => {Survived=No}  0.216265334 0.75917065\n",
      "[34] {Class=2nd,Age=Adult}             => {Survived=Yes} 0.042707860 0.36015326\n",
      "[35] {Class=3rd}                       => {Survived=No}  0.239890959 0.74787535\n",
      "[36] {Class=3rd,Sex=Male,Age=Child}    => {Survived=No}  0.015901863 0.72916667\n",
      "[37] {Class=1st,Sex=Male}              => {Survived=Yes} 0.028169014 0.34444444\n",
      "[38] {Class=3rd,Age=Child}             => {Survived=Yes} 0.012267151 0.34177215\n",
      "[39] {Age=Adult}                       => {Survived=No}  0.653339391 0.68738050\n",
      "[40] {Class=1st,Sex=Male,Age=Adult}    => {Survived=Yes} 0.025897319 0.32571429\n",
      "[41] {Class=1st,Sex=Male,Age=Adult}    => {Survived=No}  0.053611995 0.67428571\n",
      "[42] {Class=3rd,Age=Child}             => {Survived=No}  0.023625625 0.65822785\n",
      "[43] {Class=1st,Sex=Male}              => {Survived=No}  0.053611995 0.65555556\n",
      "[44] {Age=Adult}                       => {Survived=Yes} 0.297137665 0.31261950\n",
      "[45] {Class=2nd,Age=Adult}             => {Survived=No}  0.075874602 0.63984674\n",
      "[46] {Class=2nd}                       => {Survived=No}  0.075874602 0.58596491\n",
      "[47] {Class=3rd,Sex=Male,Age=Child}    => {Survived=Yes} 0.005906406 0.27083333\n",
      "[48] {Class=3rd,Sex=Female,Age=Child}  => {Survived=No}  0.007723762 0.54838710\n",
      "[49] {Sex=Male,Age=Child}              => {Survived=No}  0.015901863 0.54687500\n",
      "[50] {Class=3rd,Sex=Female}            => {Survived=No}  0.048159927 0.54081633\n",
      "[51] {Class=3rd,Sex=Female,Age=Adult}  => {Survived=No}  0.040436165 0.53939394\n",
      "[52] {Class=3rd}                       => {Survived=Yes} 0.080872331 0.25212465\n",
      "[53] {Class=3rd,Age=Adult}             => {Survived=Yes} 0.068605179 0.24082935\n",
      "[54] {Class=Crew}                      => {Survived=Yes} 0.096319855 0.23954802\n",
      "[55] {Class=Crew,Age=Adult}            => {Survived=Yes} 0.096319855 0.23954802\n",
      "[56] {Age=Child}                       => {Survived=No}  0.023625625 0.47706422\n",
      "[57] {Class=Crew,Sex=Male}             => {Survived=Yes} 0.087233076 0.22273782\n",
      "[58] {Class=Crew,Sex=Male,Age=Adult}   => {Survived=Yes} 0.087233076 0.22273782\n",
      "[59] {Sex=Male}                        => {Survived=Yes} 0.166742390 0.21201618\n",
      "[60] {Sex=Male,Age=Adult}              => {Survived=Yes} 0.153566561 0.20275945\n",
      "[61] {Class=1st,Age=Adult}             => {Survived=No}  0.055429350 0.38244514\n",
      "[62] {Sex=Female,Age=Child}            => {Survived=No}  0.007723762 0.37777778\n",
      "[63] {Class=1st}                       => {Survived=No}  0.055429350 0.37538462\n",
      "[64] {Class=3rd,Sex=Male}              => {Survived=Yes} 0.039981826 0.17254902\n",
      "[65] {Class=3rd,Sex=Male,Age=Adult}    => {Survived=Yes} 0.034075420 0.16233766\n",
      "[66] {Class=2nd,Sex=Male}              => {Survived=Yes} 0.011358473 0.13966480\n",
      "[67] {Sex=Female}                      => {Survived=No}  0.057246706 0.26808511\n",
      "[68] {Sex=Female,Age=Adult}            => {Survived=No}  0.049522944 0.25647059\n",
      "[69] {Class=2nd,Sex=Male,Age=Adult}    => {Survived=Yes} 0.006360745 0.08333333\n",
      "[70] {Class=2nd,Sex=Female,Age=Adult}  => {Survived=No}  0.005906406 0.13978495\n",
      "[71] {Class=Crew,Sex=Female}           => {Survived=No}  0.001363017 0.13043478\n",
      "[72] {Class=Crew,Sex=Female,Age=Adult} => {Survived=No}  0.001363017 0.13043478\n",
      "[73] {Class=2nd,Sex=Female}            => {Survived=No}  0.005906406 0.12264151\n",
      "     coverage    lift      count\n",
      "[1]  0.010904134 3.0956399   24 \n",
      "[2]  0.002726034 3.0956399    6 \n",
      "[3]  0.005906406 3.0956399   13 \n",
      "[4]  0.004997728 3.0956399   11 \n",
      "[5]  0.002271695 3.0956399    5 \n",
      "[6]  0.065879146 3.0102430  141 \n",
      "[7]  0.065424807 3.0096499  140 \n",
      "[8]  0.048159927 2.7159860   93 \n",
      "[9]  0.010449796 2.6918608   20 \n",
      "[10] 0.010449796 2.6918608   20 \n",
      "[11] 0.042253521 2.6629161   80 \n",
      "[12] 0.193094048 2.3016993  316 \n",
      "[13] 0.213539300 2.2657450  344 \n",
      "[14] 0.147660154 1.9335843  203 \n",
      "[15] 0.020445252 1.9261760   28 \n",
      "[16] 0.144934121 1.9117275  197 \n",
      "[17] 0.049522944 1.6188209   57 \n",
      "[18] 0.074965925 1.4258705   76 \n",
      "[19] 0.089050432 1.4214673   90 \n",
      "[20] 0.029077692 1.4027118   29 \n",
      "[21] 0.014084507 1.3980309   14 \n",
      "[22] 0.076328941 1.3540828  154 \n",
      "[23] 0.129486597 1.2817036  118 \n",
      "[24] 0.081326670 1.2708710  154 \n",
      "[25] 0.209904589 1.2373791  387 \n",
      "[26] 0.231712858 1.2222950  422 \n",
      "[27] 0.757383008 1.1776688 1329 \n",
      "[28] 0.786460700 1.1639949 1364 \n",
      "[29] 0.391640164 1.1481571  670 \n",
      "[30] 0.391640164 1.1481571  670 \n",
      "[31] 0.402089959 1.1233254  673 \n",
      "[32] 0.402089959 1.1233254  673 \n",
      "[33] 0.284870513 1.1214326  476 \n",
      "[34] 0.118582463 1.1149048   94 \n",
      "[35] 0.320763289 1.1047474  528 \n",
      "[36] 0.021808269 1.0771113   35 \n",
      "[37] 0.081781009 1.0662760   62 \n",
      "[38] 0.035892776 1.0580035   27 \n",
      "[39] 0.950477056 1.0153856 1438 \n",
      "[40] 0.079509314 1.0082942   57 \n",
      "[41] 0.079509314 0.9960422  118 \n",
      "[42] 0.035892776 0.9723218   52 \n",
      "[43] 0.081781009 0.9683743  118 \n",
      "[44] 0.950477056 0.9677574  654 \n",
      "[45] 0.118582463 0.9451696  167 \n",
      "[46] 0.129486597 0.8655764  167 \n",
      "[47] 0.021808269 0.8384025   13 \n",
      "[48] 0.014084507 0.8100671   17 \n",
      "[49] 0.029077692 0.8078335   35 \n",
      "[50] 0.089050432 0.7988837  106 \n",
      "[51] 0.074965925 0.7967826   89 \n",
      "[52] 0.320763289 0.7804871  178 \n",
      "[53] 0.284870513 0.7455209  151 \n",
      "[54] 0.402089959 0.7415544  212 \n",
      "[55] 0.402089959 0.7415544  212 \n",
      "[56] 0.049522944 0.7047103   52 \n",
      "[57] 0.391640164 0.6895161  192 \n",
      "[58] 0.391640164 0.6895161  192 \n",
      "[59] 0.786460700 0.6563257  367 \n",
      "[60] 0.757383008 0.6276702  338 \n",
      "[61] 0.144934121 0.5649408  122 \n",
      "[62] 0.020445252 0.5580462   17 \n",
      "[63] 0.147660154 0.5545111  122 \n",
      "[64] 0.231712858 0.5341496   88 \n",
      "[65] 0.209904589 0.5025390   75 \n",
      "[66] 0.081326670 0.4323519   25 \n",
      "[67] 0.213539300 0.3960103  126 \n",
      "[68] 0.193094048 0.3788535  109 \n",
      "[69] 0.076328941 0.2579700   14 \n",
      "[70] 0.042253521 0.2064877   13 \n",
      "[71] 0.010449796 0.1926758    3 \n",
      "[72] 0.010449796 0.1926758    3 \n",
      "[73] 0.048159927 0.1811637   13 \n"
     ]
    }
   ],
   "source": [
    "#Display the top 20 rules with the highest lift \n",
    "inspect(sort(rule,by=\"lift\"))"
   ]
  },
  {
   "cell_type": "code",
   "execution_count": 58,
   "metadata": {},
   "outputs": [
    {
     "data": {
      "image/png": "[encoded data removed]",
      "text/plain": [
       "plot without title"
      ]
     },
     "metadata": {},
     "output_type": "display_data"
    }
   ],
   "source": [
    "#Visualizing the top 20 rules with the highest lift\n",
    "plot(sort(rule,by=\"lift\"), method=\"paracoord\")"
   ]
  },
  {
   "cell_type": "code",
   "execution_count": null,
   "metadata": {},
   "outputs": [],
   "source": []
  }
 ],
 "metadata": {
  "kernelspec": {
   "display_name": "R",
   "language": "R",
   "name": "ir"
  },
  "language_info": {
   "codemirror_mode": "r",
   "file_extension": ".r",
   "mimetype": "text/x-r-source",
   "name": "R",
   "pygments_lexer": "r",
   "version": "3.6.1"
  }
 },
 "nbformat": 4,
 "nbformat_minor": 2
}
